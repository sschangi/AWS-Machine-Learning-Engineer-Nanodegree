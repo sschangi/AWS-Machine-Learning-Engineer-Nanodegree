{
 "cells": [
  {
   "cell_type": "markdown",
   "metadata": {},
   "source": [
    "# Deploy and monitor a machine learning workflow for Image Classification"
   ]
  },
  {
   "cell_type": "markdown",
   "metadata": {},
   "source": [
    "## Setting up this notebook\n",
    "\n",
    "Notes about the instance size and kernel setup: this notebook has been tested on\n",
    "\n",
    "1. The `Python 3 (Data Science)` kernel\n",
    "2. The `ml.t3.medium` Sagemaker notebook instance\n",
    "\n",
    "## Data Staging\n",
    "\n",
    "We'll use a sample dataset called CIFAR to simulate the challenges Scones Unlimited are facing in Image Classification. In order to start working with CIFAR we'll need to:\n",
    "\n",
    "1. Extract the data from a hosting service\n",
    "2. Transform it into a usable shape and format\n",
    "3. Load it into a production system\n",
    "\n",
    "In other words, we're going to do some simple ETL!\n",
    "\n",
    "### 1. Extract the data from the hosting service\n",
    "\n",
    "In the cell below, define a function `extract_cifar_data` that extracts python version of the CIFAR-100 dataset. The CIFAR dataaset is open source and generously hosted by the University of Toronto at: https://www.cs.toronto.edu/~kriz/cifar-100-python.tar.gz "
   ]
  },
  {
   "cell_type": "code",
   "execution_count": 1,
   "metadata": {},
   "outputs": [],
   "source": [
    "import requests\n",
    "\n",
    "def extract_cifar_data(url, filename=\"cifar.tar.gz\"):\n",
    "    \"\"\"A function for extracting the CIFAR-100 dataset and storing it as a gzipped file\n",
    "    \n",
    "    Arguments:\n",
    "    url      -- the URL where the dataset is hosted\n",
    "    filename -- the full path where the dataset will be written\n",
    "    \n",
    "    \"\"\"\n",
    "    \n",
    "    # Todo: request the data from the data url\n",
    "    # Hint: use `requests.get` method\n",
    "    r = requests.get(url)\n",
    "    with open(filename, \"wb\") as file_context:\n",
    "        file_context.write(r.content)\n",
    "    return"
   ]
  },
  {
   "cell_type": "markdown",
   "metadata": {},
   "source": [
    "Let's test it out! Run the following cell and check whether a new file `cifar.tar.gz` is created in the file explorer."
   ]
  },
  {
   "cell_type": "code",
   "execution_count": 2,
   "metadata": {},
   "outputs": [],
   "source": [
    "extract_cifar_data(\"https://www.cs.toronto.edu/~kriz/cifar-100-python.tar.gz\")     "
   ]
  },
  {
   "cell_type": "markdown",
   "metadata": {},
   "source": [
    "### 2. Transform the data into a usable shape and format\n",
    "\n",
    "Clearly, distributing the data as a gzipped archive makes sense for the hosting service! It saves on bandwidth, storage, and it's a widely-used archive format. In fact, it's so widely used that the Python community ships a utility for working with them, `tarfile`, as part of its Standard Library. Execute the following cell to decompress your extracted dataset:"
   ]
  },
  {
   "cell_type": "code",
   "execution_count": 3,
   "metadata": {},
   "outputs": [],
   "source": [
    "import tarfile\n",
    "\n",
    "with tarfile.open(\"cifar.tar.gz\", \"r:gz\") as tar:\n",
    "    tar.extractall()"
   ]
  },
  {
   "cell_type": "markdown",
   "metadata": {},
   "source": [
    "A new folder `cifar-100-python` should be created, containing `meta`, `test`, and `train` files. These files are `pickles` and the [CIFAR homepage](https://www.cs.toronto.edu/~kriz/cifar.html) provides a simple script that can be used to load them. We've adapted the script below for you to run:"
   ]
  },
  {
   "cell_type": "code",
   "execution_count": 4,
   "metadata": {},
   "outputs": [],
   "source": [
    "import pickle\n",
    "\n",
    "with open(\"./cifar-100-python/meta\", \"rb\") as f:\n",
    "    dataset_meta = pickle.load(f, encoding='bytes')\n",
    "\n",
    "with open(\"./cifar-100-python/test\", \"rb\") as f:\n",
    "    dataset_test = pickle.load(f, encoding='bytes')\n",
    "\n",
    "with open(\"./cifar-100-python/train\", \"rb\") as f:\n",
    "    dataset_train = pickle.load(f, encoding='bytes')"
   ]
  },
  {
   "cell_type": "code",
   "execution_count": 5,
   "metadata": {},
   "outputs": [
    {
     "data": {
      "text/plain": [
       "dict_keys([b'filenames', b'batch_label', b'fine_labels', b'coarse_labels', b'data'])"
      ]
     },
     "execution_count": 5,
     "metadata": {},
     "output_type": "execute_result"
    }
   ],
   "source": [
    "# Feel free to explore the datasets\n",
    "\n",
    "dataset_train.keys()"
   ]
  },
  {
   "cell_type": "markdown",
   "metadata": {},
   "source": [
    "As documented on the homepage, `b'data'` contains rows of 3073 unsigned integers, representing three channels (red, green, and blue) for one 32x32 pixel image per row."
   ]
  },
  {
   "cell_type": "code",
   "execution_count": 6,
   "metadata": {},
   "outputs": [
    {
     "data": {
      "text/plain": [
       "3072"
      ]
     },
     "execution_count": 6,
     "metadata": {},
     "output_type": "execute_result"
    }
   ],
   "source": [
    "32*32*3"
   ]
  },
  {
   "cell_type": "markdown",
   "metadata": {},
   "source": [
    "For a simple gut-check, let's transform one of our images. Each 1024 items in a row is a channel (red, green, then blue). Each 32 items in the channel are a row in the 32x32 image. Using python, we can stack these channels into a 32x32x3 array, and save it as a PNG file:"
   ]
  },
  {
   "cell_type": "code",
   "execution_count": 7,
   "metadata": {},
   "outputs": [],
   "source": [
    "import numpy as np\n",
    "\n",
    "# Each 1024 in a row is a channel (red, green, then blue)\n",
    "row = dataset_train[b'data'][0]\n",
    "red, green, blue = row[0:1024], row[1024:2048], row[2048:]\n",
    "\n",
    "# Each 32 items in the channel are a row in the 32x32 image\n",
    "red = red.reshape(32,32)\n",
    "green = green.reshape(32,32)\n",
    "blue = blue.reshape(32,32)\n",
    "\n",
    "# Combine the channels into a 32x32x3 image!\n",
    "combined = np.dstack((red,green,blue))"
   ]
  },
  {
   "cell_type": "markdown",
   "metadata": {},
   "source": [
    "For a more concise version, consider the following:"
   ]
  },
  {
   "cell_type": "code",
   "execution_count": 8,
   "metadata": {},
   "outputs": [],
   "source": [
    "# All in one:\n",
    "test_image = np.dstack((\n",
    "    row[0:1024].reshape(32,32),\n",
    "    row[1024:2048].reshape(32,32),\n",
    "    row[2048:].reshape(32,32)\n",
    "))"
   ]
  },
  {
   "cell_type": "code",
   "execution_count": 9,
   "metadata": {},
   "outputs": [
    {
     "data": {
      "image/png": "[encoded data removed]",
      "text/plain": [
       "<Figure size 640x480 with 1 Axes>"
      ]
     },
     "metadata": {},
     "output_type": "display_data"
    }
   ],
   "source": [
    "import matplotlib.pyplot as plt\n",
    "plt.imshow(test_image);"
   ]
  },
  {
   "cell_type": "markdown",
   "metadata": {},
   "source": [
    "Looks like a cow! Let's check the label. `dataset_meta` contains label names in order, and `dataset_train` has a list of labels for each row."
   ]
  },
  {
   "cell_type": "code",
   "execution_count": 10,
   "metadata": {},
   "outputs": [
    {
     "data": {
      "text/plain": [
       "19"
      ]
     },
     "execution_count": 10,
     "metadata": {},
     "output_type": "execute_result"
    }
   ],
   "source": [
    "dataset_train[b'fine_labels'][0]"
   ]
  },
  {
   "cell_type": "markdown",
   "metadata": {},
   "source": [
    "Our image has a label of `19`, so let's see what the 19th item is in the list of label names."
   ]
  },
  {
   "cell_type": "code",
   "execution_count": 11,
   "metadata": {},
   "outputs": [
    {
     "name": "stdout",
     "output_type": "stream",
     "text": [
      "b'cattle'\n"
     ]
    }
   ],
   "source": [
    "print(dataset_meta[b'fine_label_names'][19])"
   ]
  },
  {
   "cell_type": "markdown",
   "metadata": {},
   "source": [
    "Ok! 'cattle' sounds about right. By the way, using the previous two lines we can do:"
   ]
  },
  {
   "cell_type": "code",
   "execution_count": 12,
   "metadata": {},
   "outputs": [
    {
     "name": "stdout",
     "output_type": "stream",
     "text": [
      "b'cattle'\n"
     ]
    }
   ],
   "source": [
    "n = 0\n",
    "print(dataset_meta[b'fine_label_names'][dataset_train[b'fine_labels'][n]])"
   ]
  },
  {
   "cell_type": "markdown",
   "metadata": {},
   "source": [
    "Now we know how to check labels, is there a way that we can also check file names? `dataset_train` also contains a `b'filenames'` key. Let's see what we have here:"
   ]
  },
  {
   "cell_type": "code",
   "execution_count": 13,
   "metadata": {},
   "outputs": [
    {
     "name": "stdout",
     "output_type": "stream",
     "text": [
      "b'bos_taurus_s_000507.png'\n"
     ]
    }
   ],
   "source": [
    "print(dataset_train[b'filenames'][0])"
   ]
  },
  {
   "cell_type": "markdown",
   "metadata": {},
   "source": [
    "\"Taurus\" is the name of a subspecies of cattle, so this looks like a pretty reasonable filename. To save an image we can also do:"
   ]
  },
  {
   "cell_type": "code",
   "execution_count": 14,
   "metadata": {},
   "outputs": [],
   "source": [
    "plt.imsave(\"file.png\", test_image)"
   ]
  },
  {
   "cell_type": "markdown",
   "metadata": {},
   "source": [
    "Your new PNG file should now appear in the file explorer -- go ahead and pop it open to see!\n",
    "\n",
    "Now that you know how to reshape the images, save them as files, and capture their filenames and labels, let's just capture all the bicycles and motorcycles and save them. Scones Unlimited can use a model that tells these apart to route delivery drivers automatically.\n",
    "\n",
    "In the following cell, identify the label numbers for Bicycles and Motorcycles:"
   ]
  },
  {
   "cell_type": "code",
   "execution_count": 15,
   "metadata": {},
   "outputs": [],
   "source": [
    "# import pandas as pd\n",
    "\n",
    "# # Todo: Filter the dataset_train and dataset_meta objects to find the label numbers for Bicycle and Motorcycles\n",
    "\n",
    "# labels = {label for i, label in enumerate(dataset_train[b'fine_labels']) if dataset_meta[b'fine_label_names'][label] in [b'bicycle', b'motorcycle']}\n",
    "\n",
    "# print(labels)"
   ]
  },
  {
   "cell_type": "code",
   "execution_count": 15,
   "metadata": {},
   "outputs": [
    {
     "name": "stderr",
     "output_type": "stream",
     "text": [
      "/home/ec2-user/anaconda3/envs/python3/lib/python3.10/site-packages/pandas/core/computation/expressions.py:21: UserWarning: Pandas requires version '2.8.0' or newer of 'numexpr' (version '2.7.3' currently installed).\n",
      "  from pandas.core.computation.check import NUMEXPR_INSTALLED\n"
     ]
    },
    {
     "name": "stdout",
     "output_type": "stream",
     "text": [
      "Bicycle Label Index: 8\n",
      "Motorcycle Label Index: 48\n"
     ]
    }
   ],
   "source": [
    "import pandas as pd\n",
    "\n",
    "labels = [label.decode('utf-8') for label in dataset_meta[b'fine_label_names']]\n",
    "\n",
    "bicycle_label_index = labels.index('bicycle')\n",
    "motorcycle_label_index = labels.index('motorcycle')\n",
    "\n",
    "print(f\"Bicycle Label Index: {bicycle_label_index}\")\n",
    "print(f\"Motorcycle Label Index: {motorcycle_label_index}\")"
   ]
  },
  {
   "cell_type": "markdown",
   "metadata": {},
   "source": [
    "Good job! We only need objects with label 8 and 48 -- this drastically simplifies our handling of the data! Below we construct a dataframe for you, and you can safely drop the rows that don't contain observations about bicycles and motorcycles. Fill in the missing lines below to drop all other rows:"
   ]
  },
  {
   "cell_type": "code",
   "execution_count": 16,
   "metadata": {},
   "outputs": [
    {
     "data": {
      "text/html": [
       "<div>\n",
       "<style scoped>\n",
       "    .dataframe tbody tr th:only-of-type {\n",
       "        vertical-align: middle;\n",
       "    }\n",
       "\n",
       "    .dataframe tbody tr th {\n",
       "        vertical-align: top;\n",
       "    }\n",
       "\n",
       "    .dataframe thead th {\n",
       "        text-align: right;\n",
       "    }\n",
       "</style>\n",
       "<table border=\"1\" class=\"dataframe\">\n",
       "  <thead>\n",
       "    <tr style=\"text-align: right;\">\n",
       "      <th></th>\n",
       "      <th>filenames</th>\n",
       "      <th>labels</th>\n",
       "      <th>row</th>\n",
       "    </tr>\n",
       "  </thead>\n",
       "  <tbody>\n",
       "    <tr>\n",
       "      <th>0</th>\n",
       "      <td>b'bos_taurus_s_000507.png'</td>\n",
       "      <td>19</td>\n",
       "      <td>0</td>\n",
       "    </tr>\n",
       "    <tr>\n",
       "      <th>1</th>\n",
       "      <td>b'stegosaurus_s_000125.png'</td>\n",
       "      <td>29</td>\n",
       "      <td>1</td>\n",
       "    </tr>\n",
       "    <tr>\n",
       "      <th>2</th>\n",
       "      <td>b'mcintosh_s_000643.png'</td>\n",
       "      <td>0</td>\n",
       "      <td>2</td>\n",
       "    </tr>\n",
       "    <tr>\n",
       "      <th>3</th>\n",
       "      <td>b'altar_boy_s_001435.png'</td>\n",
       "      <td>11</td>\n",
       "      <td>3</td>\n",
       "    </tr>\n",
       "    <tr>\n",
       "      <th>4</th>\n",
       "      <td>b'cichlid_s_000031.png'</td>\n",
       "      <td>1</td>\n",
       "      <td>4</td>\n",
       "    </tr>\n",
       "  </tbody>\n",
       "</table>\n",
       "</div>"
      ],
      "text/plain": [
       "                     filenames  labels  row\n",
       "0   b'bos_taurus_s_000507.png'      19    0\n",
       "1  b'stegosaurus_s_000125.png'      29    1\n",
       "2     b'mcintosh_s_000643.png'       0    2\n",
       "3    b'altar_boy_s_001435.png'      11    3\n",
       "4      b'cichlid_s_000031.png'       1    4"
      ]
     },
     "execution_count": 16,
     "metadata": {},
     "output_type": "execute_result"
    }
   ],
   "source": [
    "df_train = pd.DataFrame({\n",
    "    \"filenames\": dataset_train[b'filenames'],\n",
    "    \"labels\": dataset_train[b'fine_labels'],\n",
    "    \"row\": range(len(dataset_train[b'filenames']))\n",
    "})\n",
    "\n",
    "df_train.head()"
   ]
  },
  {
   "cell_type": "code",
   "execution_count": 24,
   "metadata": {},
   "outputs": [],
   "source": [
    "#Construct the dataframe\n",
    "df_train = pd.DataFrame({\n",
    "    \"filenames\": dataset_train[b'filenames'],\n",
    "    \"labels\": dataset_train[b'fine_labels'],\n",
    "    \"row\": range(len(dataset_train[b'filenames']))\n",
    "})\n",
    "\n",
    "# Drop all rows from df_train where label is not 8 or 48\n",
    "# df_train = #TODO: Fill in\n",
    "df_train = df_train[df_train['labels'].isin([8, 48])]\n",
    "\n",
    "# Decode df_train.filenames so they are regular strings\n",
    "df_train[\"filenames\"] = df_train[\"filenames\"].apply(\n",
    "    lambda x: x.decode(\"utf-8\")\n",
    ")\n",
    "\n",
    "\n",
    "df_test = pd.DataFrame({\n",
    "    \"filenames\": dataset_test[b'filenames'],\n",
    "    \"labels\": dataset_test[b'fine_labels'],\n",
    "    \"row\": range(len(dataset_test[b'filenames']))\n",
    "})\n",
    "\n",
    "# Drop all rows from df_test where label is not 8 or 48\n",
    "# df_test = #TODO: Fill in\n",
    "df_test = df_test[df_test['labels'].isin([8, 48])]\n",
    "\n",
    "# Decode df_test.filenames so they are regular strings\n",
    "df_test[\"filenames\"] = df_test[\"filenames\"].apply(\n",
    "    lambda x: x.decode(\"utf-8\")\n",
    ")"
   ]
  },
  {
   "cell_type": "code",
   "execution_count": 25,
   "metadata": {},
   "outputs": [
    {
     "data": {
      "text/html": [
       "<div>\n",
       "<style scoped>\n",
       "    .dataframe tbody tr th:only-of-type {\n",
       "        vertical-align: middle;\n",
       "    }\n",
       "\n",
       "    .dataframe tbody tr th {\n",
       "        vertical-align: top;\n",
       "    }\n",
       "\n",
       "    .dataframe thead th {\n",
       "        text-align: right;\n",
       "    }\n",
       "</style>\n",
       "<table border=\"1\" class=\"dataframe\">\n",
       "  <thead>\n",
       "    <tr style=\"text-align: right;\">\n",
       "      <th></th>\n",
       "      <th>filenames</th>\n",
       "      <th>labels</th>\n",
       "      <th>row</th>\n",
       "    </tr>\n",
       "  </thead>\n",
       "  <tbody>\n",
       "    <tr>\n",
       "      <th>16</th>\n",
       "      <td>bike_s_000682.png</td>\n",
       "      <td>8</td>\n",
       "      <td>16</td>\n",
       "    </tr>\n",
       "    <tr>\n",
       "      <th>30</th>\n",
       "      <td>bike_s_000127.png</td>\n",
       "      <td>8</td>\n",
       "      <td>30</td>\n",
       "    </tr>\n",
       "    <tr>\n",
       "      <th>130</th>\n",
       "      <td>cycle_s_002598.png</td>\n",
       "      <td>8</td>\n",
       "      <td>130</td>\n",
       "    </tr>\n",
       "    <tr>\n",
       "      <th>152</th>\n",
       "      <td>minibike_s_000824.png</td>\n",
       "      <td>48</td>\n",
       "      <td>152</td>\n",
       "    </tr>\n",
       "    <tr>\n",
       "      <th>195</th>\n",
       "      <td>motorcycle_s_001856.png</td>\n",
       "      <td>48</td>\n",
       "      <td>195</td>\n",
       "    </tr>\n",
       "  </tbody>\n",
       "</table>\n",
       "</div>"
      ],
      "text/plain": [
       "                   filenames  labels  row\n",
       "16         bike_s_000682.png       8   16\n",
       "30         bike_s_000127.png       8   30\n",
       "130       cycle_s_002598.png       8  130\n",
       "152    minibike_s_000824.png      48  152\n",
       "195  motorcycle_s_001856.png      48  195"
      ]
     },
     "execution_count": 25,
     "metadata": {},
     "output_type": "execute_result"
    }
   ],
   "source": [
    "df_train.head()"
   ]
  },
  {
   "cell_type": "markdown",
   "metadata": {},
   "source": [
    "Now that the data is filtered for just our classes, we can save all our images."
   ]
  },
  {
   "cell_type": "code",
   "execution_count": 26,
   "metadata": {},
   "outputs": [
    {
     "data": {
      "text/plain": [
       "{8, 48}"
      ]
     },
     "execution_count": 26,
     "metadata": {},
     "output_type": "execute_result"
    }
   ],
   "source": [
    "set(df_test.labels)"
   ]
  },
  {
   "cell_type": "code",
   "execution_count": 27,
   "metadata": {},
   "outputs": [
    {
     "name": "stdout",
     "output_type": "stream",
     "text": [
      "mkdir: cannot create directory ‘./train’: File exists\n",
      "mkdir: cannot create directory ‘./test’: File exists\n"
     ]
    }
   ],
   "source": [
    "!mkdir ./train\n",
    "!mkdir ./test"
   ]
  },
  {
   "cell_type": "markdown",
   "metadata": {},
   "source": [
    "In the previous sections we introduced you to several key snippets of code:\n",
    "\n",
    "1. Grabbing the image data:\n",
    "\n",
    "```python\n",
    "dataset_train[b'data'][0]\n",
    "```\n",
    "\n",
    "2. A simple idiom for stacking the image data into the right shape\n",
    "\n",
    "```python\n",
    "import numpy as np\n",
    "np.dstack((\n",
    "    row[0:1024].reshape(32,32),\n",
    "    row[1024:2048].reshape(32,32),\n",
    "    row[2048:].reshape(32,32)\n",
    "))\n",
    "```\n",
    "\n",
    "3. A simple `matplotlib` utility for saving images\n",
    "\n",
    "```python\n",
    "plt.imsave(path+row['filenames'], target)\n",
    "```\n",
    "\n",
    "Compose these together into a function that saves all the images into the `./test` and `./train` directories. Use the comments in the body of the `save_images` function below to guide your construction of the function:\n"
   ]
  },
  {
   "cell_type": "code",
   "execution_count": 28,
   "metadata": {},
   "outputs": [
    {
     "data": {
      "text/html": [
       "<div>\n",
       "<style scoped>\n",
       "    .dataframe tbody tr th:only-of-type {\n",
       "        vertical-align: middle;\n",
       "    }\n",
       "\n",
       "    .dataframe tbody tr th {\n",
       "        vertical-align: top;\n",
       "    }\n",
       "\n",
       "    .dataframe thead th {\n",
       "        text-align: right;\n",
       "    }\n",
       "</style>\n",
       "<table border=\"1\" class=\"dataframe\">\n",
       "  <thead>\n",
       "    <tr style=\"text-align: right;\">\n",
       "      <th></th>\n",
       "      <th>filenames</th>\n",
       "      <th>labels</th>\n",
       "      <th>row</th>\n",
       "    </tr>\n",
       "  </thead>\n",
       "  <tbody>\n",
       "    <tr>\n",
       "      <th>27</th>\n",
       "      <td>safety_bike_s_000390.png</td>\n",
       "      <td>8</td>\n",
       "      <td>27</td>\n",
       "    </tr>\n",
       "    <tr>\n",
       "      <th>28</th>\n",
       "      <td>bike_s_000658.png</td>\n",
       "      <td>8</td>\n",
       "      <td>28</td>\n",
       "    </tr>\n",
       "    <tr>\n",
       "      <th>116</th>\n",
       "      <td>velocipede_s_001744.png</td>\n",
       "      <td>8</td>\n",
       "      <td>116</td>\n",
       "    </tr>\n",
       "    <tr>\n",
       "      <th>161</th>\n",
       "      <td>bike_s_000643.png</td>\n",
       "      <td>8</td>\n",
       "      <td>161</td>\n",
       "    </tr>\n",
       "    <tr>\n",
       "      <th>319</th>\n",
       "      <td>ordinary_bicycle_s_000437.png</td>\n",
       "      <td>8</td>\n",
       "      <td>319</td>\n",
       "    </tr>\n",
       "  </tbody>\n",
       "</table>\n",
       "</div>"
      ],
      "text/plain": [
       "                         filenames  labels  row\n",
       "27        safety_bike_s_000390.png       8   27\n",
       "28               bike_s_000658.png       8   28\n",
       "116        velocipede_s_001744.png       8  116\n",
       "161              bike_s_000643.png       8  161\n",
       "319  ordinary_bicycle_s_000437.png       8  319"
      ]
     },
     "execution_count": 28,
     "metadata": {},
     "output_type": "execute_result"
    }
   ],
   "source": [
    "df_test.head()"
   ]
  },
  {
   "cell_type": "code",
   "execution_count": 29,
   "metadata": {},
   "outputs": [],
   "source": [
    "import os\n",
    "\n",
    "def save_images(dataset, dataframe, output_dir):\n",
    "        \n",
    "    for i, row in enumerate(dataframe.iterrows()):\n",
    "        row = row[1]  # Extract the row data\n",
    "\n",
    "        #Grab the image data in row-major form\n",
    "        img = dataset[b'data'][row['row']]\n",
    "\n",
    "        # Consolidated stacking/reshaping from earlier\n",
    "        target = np.dstack((\n",
    "            img[0:1024].reshape(32, 32),\n",
    "            img[1024:2048].reshape(32, 32),\n",
    "            img[2048:].reshape(32, 32)\n",
    "        ))\n",
    "\n",
    "\n",
    "        filename = os.path.join(output_dir, row['filenames'])\n",
    "\n",
    "        # Save the image\n",
    "        plt.imsave(filename, target)\n",
    "\n",
    "\n",
    "## save ALL images using the save_images function\n",
    "save_images(dataset_train, df_train, './train')\n",
    "save_images(dataset_test, df_test, './test')"
   ]
  },
  {
   "cell_type": "markdown",
   "metadata": {},
   "source": [
    "### 3. Load the data\n",
    "\n",
    "Now we can load the data into S3.\n",
    "\n",
    "Using the sagemaker SDK grab the current region, execution role, and bucket."
   ]
  },
  {
   "cell_type": "code",
   "execution_count": 30,
   "metadata": {},
   "outputs": [
    {
     "name": "stdout",
     "output_type": "stream",
     "text": [
      "sagemaker.config INFO - Not applying SDK defaults from location: /etc/xdg/sagemaker/config.yaml\n",
      "sagemaker.config INFO - Not applying SDK defaults from location: /home/ec2-user/.config/sagemaker/config.yaml\n",
      "Default Bucket: sagemaker-us-east-1-367725760029\n",
      "AWS Region: us-east-1\n",
      "RoleArn: arn:aws:iam::367725760029:role/service-role/AmazonSageMaker-ExecutionRole-20231224T164801\n"
     ]
    }
   ],
   "source": [
    "import sagemaker\n",
    "import boto3\n",
    "from sagemaker import get_execution_role\n",
    "\n",
    "# Get the current SageMaker session\n",
    "session = sagemaker.Session()\n",
    "\n",
    "# Get the default S3 bucket\n",
    "bucket = session.default_bucket()\n",
    "print(\"Default Bucket: {}\".format(bucket))\n",
    "\n",
    "# Get the AWS region\n",
    "region = session.boto_region_name\n",
    "print(\"AWS Region: {}\".format(region))\n",
    "\n",
    "# Get the execution role\n",
    "role = get_execution_role()\n",
    "print(\"RoleArn: {}\".format(role))\n"
   ]
  },
  {
   "cell_type": "markdown",
   "metadata": {},
   "source": [
    "With this data we can easily sync your data up into S3!"
   ]
  },
  {
   "cell_type": "code",
   "execution_count": 31,
   "metadata": {},
   "outputs": [],
   "source": [
    "import os\n",
    "\n",
    "os.environ[\"DEFAULT_S3_BUCKET\"] = bucket\n",
    "!aws s3 sync ./train s3://${DEFAULT_S3_BUCKET}/train/ --quiet\n",
    "!aws s3 sync ./test s3://${DEFAULT_S3_BUCKET}/test/ --quiet"
   ]
  },
  {
   "cell_type": "markdown",
   "metadata": {},
   "source": [
    "And that's it! You can check the bucket and verify that the items were uploaded.\n",
    "\n",
    "## Model Training\n",
    "\n",
    "For Image Classification, Sagemaker [also expects metadata](https://docs.aws.amazon.com/sagemaker/latest/dg/image-classification.html) e.g. in the form of TSV files with labels and filepaths. We can generate these using our Pandas DataFrames from earlier:"
   ]
  },
  {
   "cell_type": "code",
   "execution_count": 32,
   "metadata": {},
   "outputs": [],
   "source": [
    "def to_metadata_file(df, prefix):\n",
    "    df[\"s3_path\"] = df[\"filenames\"]\n",
    "    df[\"labels\"] = df[\"labels\"].apply(lambda x: 0 if x==8 else 1)\n",
    "    return df[[\"row\", \"labels\", \"s3_path\"]].to_csv(\n",
    "        f\"{prefix}.lst\", sep=\"\\t\", index=False, header=False\n",
    "    )\n",
    "    \n",
    "to_metadata_file(df_train.copy(), \"train\")\n",
    "to_metadata_file(df_test.copy(), \"test\")"
   ]
  },
  {
   "cell_type": "markdown",
   "metadata": {},
   "source": [
    "We can also upload our manifest files:"
   ]
  },
  {
   "cell_type": "code",
   "execution_count": 33,
   "metadata": {},
   "outputs": [],
   "source": [
    "import boto3\n",
    "\n",
    "# Upload files\n",
    "boto3.Session().resource('s3').Bucket(\n",
    "    bucket).Object('train.lst').upload_file('./train.lst')\n",
    "boto3.Session().resource('s3').Bucket(\n",
    "    bucket).Object('test.lst').upload_file('./test.lst')"
   ]
  },
  {
   "cell_type": "markdown",
   "metadata": {},
   "source": [
    "Using the `bucket` and `region` info we can get the latest prebuilt container to run our training job, and define an output location on our s3 bucket for the model. Use the `image_uris` function from the SageMaker SDK to retrieve the latest `image-classification` image below:"
   ]
  },
  {
   "cell_type": "code",
   "execution_count": 34,
   "metadata": {},
   "outputs": [
    {
     "name": "stdout",
     "output_type": "stream",
     "text": [
      "Algorithm Image URI: 811284229777.dkr.ecr.us-east-1.amazonaws.com/image-classification:1\n",
      "S3 Output Location: s3://sagemaker-us-east-1-367725760029/models/image_model\n"
     ]
    }
   ],
   "source": [
    "import sagemaker\n",
    "\n",
    "# Get the current SageMaker session\n",
    "session = sagemaker.Session()\n",
    "\n",
    "# Use the image_uris function to retrieve the latest 'image-classification' image\n",
    "algo_image = sagemaker.image_uris.retrieve(\"image-classification\", region=session.boto_region_name)\n",
    "\n",
    "# Define the S3 output location for the model\n",
    "s3_output_location = f\"s3://{bucket}/models/image_model\"\n",
    "\n",
    "print(\"Algorithm Image URI:\", algo_image)\n",
    "print(\"S3 Output Location:\", s3_output_location)\n"
   ]
  },
  {
   "cell_type": "markdown",
   "metadata": {},
   "source": [
    "We're ready to create an estimator! Create an estimator `img_classifier_model` that uses one instance of `ml.p3.2xlarge`. Ensure that y ou use the output location we defined above - we'll be referring to that later!"
   ]
  },
  {
   "cell_type": "code",
   "execution_count": 35,
   "metadata": {},
   "outputs": [],
   "source": [
    "import sagemaker\n",
    "from sagemaker import get_execution_role\n",
    "\n",
    "# Get the execution role\n",
    "role = get_execution_role()\n",
    "\n",
    "# Define the instance type\n",
    "instance_type = \"ml.p3.2xlarge\"\n",
    "\n",
    "# Create the estimator\n",
    "img_classifier_model = sagemaker.estimator.Estimator(\n",
    "    image_uri=algo_image,  # Use the image URI retrieved earlier\n",
    "    role=role,\n",
    "    instance_count=1,\n",
    "    instance_type=instance_type,\n",
    "    output_path=s3_output_location,  # Use the S3 output location defined earlier\n",
    "    sagemaker_session=session\n",
    ")"
   ]
  },
  {
   "cell_type": "markdown",
   "metadata": {},
   "source": [
    "We can also set a few key hyperparameters and define the inputs for our model:"
   ]
  },
  {
   "cell_type": "code",
   "execution_count": 36,
   "metadata": {},
   "outputs": [],
   "source": [
    "img_classifier_model.set_hyperparameters(\n",
    "    image_shape='3,32,32', # TODO: Fill in\n",
    "    num_classes=2, # TODO: Fill in\n",
    "    num_training_samples= df_train.shape[0]# TODO: fill in\n",
    ")"
   ]
  },
  {
   "cell_type": "code",
   "execution_count": 37,
   "metadata": {},
   "outputs": [
    {
     "data": {
      "text/plain": [
       "1000"
      ]
     },
     "execution_count": 37,
     "metadata": {},
     "output_type": "execute_result"
    }
   ],
   "source": [
    "df_train.shape[0]"
   ]
  },
  {
   "cell_type": "markdown",
   "metadata": {},
   "source": [
    "The `image-classification` image uses four input channels with very specific input parameters. For convenience, we've provided them below:"
   ]
  },
  {
   "cell_type": "code",
   "execution_count": 38,
   "metadata": {},
   "outputs": [],
   "source": [
    "from sagemaker.debugger import Rule, rule_configs\n",
    "from sagemaker.session import TrainingInput\n",
    "model_inputs = {\n",
    "        \"train\": sagemaker.inputs.TrainingInput(\n",
    "            s3_data=f\"s3://{bucket}/train/\",\n",
    "            content_type=\"application/x-image\"\n",
    "        ),\n",
    "        \"validation\": sagemaker.inputs.TrainingInput(\n",
    "            s3_data=f\"s3://{bucket}/test/\",\n",
    "            content_type=\"application/x-image\"\n",
    "        ),\n",
    "        \"train_lst\": sagemaker.inputs.TrainingInput(\n",
    "            s3_data=f\"s3://{bucket}/train.lst\",\n",
    "            content_type=\"application/x-image\"\n",
    "        ),\n",
    "        \"validation_lst\": sagemaker.inputs.TrainingInput(\n",
    "            s3_data=f\"s3://{bucket}/test.lst\",\n",
    "            content_type=\"application/x-image\"\n",
    "        )\n",
    "}"
   ]
  },
  {
   "cell_type": "markdown",
   "metadata": {},
   "source": [
    "Great, now we can train the model using the model_inputs. In the cell below, call the `fit` method on our model,:"
   ]
  },
  {
   "cell_type": "code",
   "execution_count": 39,
   "metadata": {},
   "outputs": [
    {
     "name": "stderr",
     "output_type": "stream",
     "text": [
      "INFO:sagemaker:Creating training-job with name: image-classification-2023-12-31-06-14-41-935\n"
     ]
    },
    {
     "name": "stdout",
     "output_type": "stream",
     "text": [
      "2023-12-31 06:14:42 Starting - Starting the training job......\n",
      "2023-12-31 06:15:17 Starting - Preparing the instances for training......\n",
      "2023-12-31 06:16:25 Downloading - Downloading input data...\n",
      "2023-12-31 06:16:55 Downloading - Downloading the training image........................\n",
      "2023-12-31 06:20:51 Training - Training image download completed. Training in progress...\u001b[34mDocker entrypoint called with argument(s): train\u001b[0m\n",
      "\u001b[34mRunning default environment configuration script\u001b[0m\n",
      "\u001b[34mNvidia gpu devices, drivers and cuda toolkit versions (only available on hosts with GPU):\u001b[0m\n",
      "\u001b[34mSun Dec 31 06:21:20 2023       \u001b[0m\n",
      "\u001b[34m+---------------------------------------------------------------------------------------+\u001b[0m\n",
      "\u001b[34m| NVIDIA-SMI 535.104.12             Driver Version: 535.104.12   CUDA Version: 12.2     |\u001b[0m\n",
      "\u001b[34m|-----------------------------------------+----------------------+----------------------+\u001b[0m\n",
      "\u001b[34m| GPU  Name                 Persistence-M | Bus-Id        Disp.A | Volatile Uncorr. ECC |\u001b[0m\n",
      "\u001b[34m| Fan  Temp   Perf          Pwr:Usage/Cap |         Memory-Usage | GPU-Util  Compute M. |\u001b[0m\n",
      "\u001b[34m|                                         |                      |               MIG M. |\u001b[0m\n",
      "\u001b[34m|=========================================+======================+======================|\u001b[0m\n",
      "\u001b[34m|   0  Tesla V100-SXM2-16GB           On  | 00000000:00:1E.0 Off |                    0 |\u001b[0m\n",
      "\u001b[34m| N/A   31C    P0              24W / 300W |      0MiB / 16384MiB |      0%      Default |\u001b[0m\n",
      "\u001b[34m|                                         |                      |                  N/A |\u001b[0m\n",
      "\u001b[34m+-----------------------------------------+----------------------+----------------------+\n",
      "                                                                                         \u001b[0m\n",
      "\u001b[34m+---------------------------------------------------------------------------------------+\u001b[0m\n",
      "\u001b[34m| Processes:                                                                            |\u001b[0m\n",
      "\u001b[34m|  GPU   GI   CI        PID   Type   Process name                            GPU Memory |\u001b[0m\n",
      "\u001b[34m|        ID   ID                                                             Usage      |\u001b[0m\n",
      "\u001b[34m|=======================================================================================|\u001b[0m\n",
      "\u001b[34m|  No running processes found                                                           |\u001b[0m\n",
      "\u001b[34m+---------------------------------------------------------------------------------------+\u001b[0m\n",
      "\u001b[34mChecking for nvidia driver and cuda compatibility.\u001b[0m\n",
      "\u001b[34mCUDA Compatibility driver provided.\u001b[0m\n",
      "\u001b[34mProceeding with compatibility check between driver, cuda-toolkit and cuda-compat.\u001b[0m\n",
      "\u001b[34mDetected cuda-toolkit version: 11.1.\u001b[0m\n",
      "\u001b[34mDetected cuda-compat version: 455.32.00.\u001b[0m\n",
      "\u001b[34mDetected Nvidia driver version: 535.104.12.\u001b[0m\n",
      "\u001b[34mNvidia driver compatible with cuda-toolkit. Disabling cuda-compat.\u001b[0m\n",
      "\u001b[34m/opt/amazon/lib/python3.8/site-packages/mxnet/model.py:97: SyntaxWarning: \"is\" with a literal. Did you mean \"==\"?\n",
      "  if num_device is 1 and 'dist' not in kvstore:\u001b[0m\n",
      "\u001b[34m[12/31/2023 06:21:24 INFO 139783795435328] Reading default configuration from /opt/amazon/lib/python3.8/site-packages/image_classification/default-input.json: {'use_pretrained_model': 0, 'num_layers': 152, 'epochs': 30, 'learning_rate': 0.1, 'lr_scheduler_factor': 0.1, 'optimizer': 'sgd', 'momentum': 0, 'weight_decay': 0.0001, 'beta_1': 0.9, 'beta_2': 0.999, 'eps': 1e-08, 'gamma': 0.9, 'mini_batch_size': 32, 'image_shape': '3,224,224', 'precision_dtype': 'float32'}\u001b[0m\n",
      "\u001b[34m[12/31/2023 06:21:24 INFO 139783795435328] Merging with provided configuration from /opt/ml/input/config/hyperparameters.json: {'image_shape': '3,32,32', 'num_classes': '2', 'num_training_samples': '1000'}\u001b[0m\n",
      "\u001b[34m[12/31/2023 06:21:24 INFO 139783795435328] Final configuration: {'use_pretrained_model': 0, 'num_layers': 152, 'epochs': 30, 'learning_rate': 0.1, 'lr_scheduler_factor': 0.1, 'optimizer': 'sgd', 'momentum': 0, 'weight_decay': 0.0001, 'beta_1': 0.9, 'beta_2': 0.999, 'eps': 1e-08, 'gamma': 0.9, 'mini_batch_size': 32, 'image_shape': '3,32,32', 'precision_dtype': 'float32', 'num_classes': '2', 'num_training_samples': '1000'}\u001b[0m\n",
      "\u001b[34m[12/31/2023 06:21:24 INFO 139783795435328] Searching for .lst files in /opt/ml/input/data/train_lst.\u001b[0m\n",
      "\u001b[34m[12/31/2023 06:21:24 INFO 139783795435328] Creating record files for train.lst\u001b[0m\n",
      "\u001b[34m[12/31/2023 06:21:24 INFO 139783795435328] Done creating record files...\u001b[0m\n",
      "\u001b[34m[12/31/2023 06:21:24 INFO 139783795435328] Searching for .lst files in /opt/ml/input/data/validation_lst.\u001b[0m\n",
      "\u001b[34m[12/31/2023 06:21:24 INFO 139783795435328] Creating record files for test.lst\u001b[0m\n",
      "\u001b[34m[12/31/2023 06:21:24 INFO 139783795435328] Done creating record files...\u001b[0m\n",
      "\u001b[34m[12/31/2023 06:21:24 INFO 139783795435328] use_pretrained_model: 0\u001b[0m\n",
      "\u001b[34m[12/31/2023 06:21:24 INFO 139783795435328] multi_label: 0\u001b[0m\n",
      "\u001b[34m[12/31/2023 06:21:24 INFO 139783795435328] Performing random weight initialization\u001b[0m\n",
      "\u001b[34m[12/31/2023 06:21:24 INFO 139783795435328] ---- Parameters ----\u001b[0m\n",
      "\u001b[34m[12/31/2023 06:21:24 INFO 139783795435328] num_layers: 152\u001b[0m\n",
      "\u001b[34m[12/31/2023 06:21:24 INFO 139783795435328] data type: <class 'numpy.float32'>\u001b[0m\n",
      "\u001b[34m[12/31/2023 06:21:24 INFO 139783795435328] epochs: 30\u001b[0m\n",
      "\u001b[34m[12/31/2023 06:21:24 INFO 139783795435328] optimizer: sgd\u001b[0m\n",
      "\u001b[34m[12/31/2023 06:21:24 INFO 139783795435328] momentum: 0.9\u001b[0m\n",
      "\u001b[34m[12/31/2023 06:21:24 INFO 139783795435328] weight_decay: 0.0001\u001b[0m\n",
      "\u001b[34m[12/31/2023 06:21:24 INFO 139783795435328] learning_rate: 0.1\u001b[0m\n",
      "\u001b[34m[12/31/2023 06:21:24 INFO 139783795435328] num_training_samples: 1000\u001b[0m\n",
      "\u001b[34m[12/31/2023 06:21:24 INFO 139783795435328] mini_batch_size: 32\u001b[0m\n",
      "\u001b[34m[12/31/2023 06:21:24 INFO 139783795435328] image_shape: 3,32,32\u001b[0m\n",
      "\u001b[34m[12/31/2023 06:21:24 INFO 139783795435328] num_classes: 2\u001b[0m\n",
      "\u001b[34m[12/31/2023 06:21:24 INFO 139783795435328] augmentation_type: None\u001b[0m\n",
      "\u001b[34m[12/31/2023 06:21:24 INFO 139783795435328] kv_store: device\u001b[0m\n",
      "\u001b[34m[12/31/2023 06:21:24 INFO 139783795435328] checkpoint_frequency not set, will store the best model\u001b[0m\n",
      "\u001b[34m[12/31/2023 06:21:24 INFO 139783795435328] --------------------\u001b[0m\n",
      "\u001b[34m/opt/amazon/python3.8/lib/python3.8/subprocess.py:848: RuntimeWarning: line buffering (buffering=1) isn't supported in binary mode, the default buffer size will be used\n",
      "  self.stdout = io.open(c2pread, 'rb', bufsize)\u001b[0m\n",
      "\u001b[34m[12/31/2023 06:21:24 INFO 139783795435328] Setting number of threads: 7\u001b[0m\n",
      "\u001b[34m[06:21:28] /opt/brazil-pkg-cache/packages/AIAlgorithmsMXNet/AIAlgorithmsMXNet-1.4.x_ecl_Cuda_11.1.x.335.0/AL2_x86_64/generic-flavor/src/src/operator/nn/./cudnn/./cudnn_algoreg-inl.h:97: Running performance tests to find the best convolution algorithm, this can take a while... (setting env variable MXNET_CUDNN_AUTOTUNE_DEFAULT to 0 to disable)\u001b[0m\n",
      "\u001b[34m[12/31/2023 06:21:33 INFO 139783795435328] Epoch[0] Batch [20]#011Speed: 119.575 samples/sec#011accuracy=0.559524\u001b[0m\n",
      "\u001b[34m[12/31/2023 06:21:35 INFO 139783795435328] Epoch[0] Train-accuracy=0.548387\u001b[0m\n",
      "\u001b[34m[12/31/2023 06:21:35 INFO 139783795435328] Epoch[0] Time cost=7.051\u001b[0m\n",
      "\u001b[34m[12/31/2023 06:21:35 INFO 139783795435328] Epoch[0] Validation-accuracy=0.505208\u001b[0m\n",
      "\u001b[34m[12/31/2023 06:21:36 INFO 139783795435328] Storing the best model with validation accuracy: 0.505208\u001b[0m\n",
      "\u001b[34m[12/31/2023 06:21:36 INFO 139783795435328] Saved checkpoint to \"/opt/ml/model/image-classification-0001.params\"\u001b[0m\n",
      "\u001b[34m[12/31/2023 06:21:40 INFO 139783795435328] Epoch[1] Batch [20]#011Speed: 180.509 samples/sec#011accuracy=0.592262\u001b[0m\n",
      "\u001b[34m[12/31/2023 06:21:41 INFO 139783795435328] Epoch[1] Train-accuracy=0.585685\u001b[0m\n",
      "\u001b[34m[12/31/2023 06:21:41 INFO 139783795435328] Epoch[1] Time cost=5.258\u001b[0m\n",
      "\u001b[34m[12/31/2023 06:21:42 INFO 139783795435328] Epoch[1] Validation-accuracy=0.546875\u001b[0m\n",
      "\u001b[34m[12/31/2023 06:21:42 INFO 139783795435328] Storing the best model with validation accuracy: 0.546875\u001b[0m\n",
      "\u001b[34m[12/31/2023 06:21:43 INFO 139783795435328] Saved checkpoint to \"/opt/ml/model/image-classification-0002.params\"\u001b[0m\n",
      "\u001b[34m[12/31/2023 06:21:46 INFO 139783795435328] Epoch[2] Batch [20]#011Speed: 183.521 samples/sec#011accuracy=0.717262\u001b[0m\n",
      "\u001b[34m[12/31/2023 06:21:48 INFO 139783795435328] Epoch[2] Train-accuracy=0.689516\u001b[0m\n",
      "\u001b[34m[12/31/2023 06:21:48 INFO 139783795435328] Epoch[2] Time cost=5.178\u001b[0m\n",
      "\u001b[34m[12/31/2023 06:21:48 INFO 139783795435328] Epoch[2] Validation-accuracy=0.656250\u001b[0m\n",
      "\u001b[34m[12/31/2023 06:21:49 INFO 139783795435328] Storing the best model with validation accuracy: 0.656250\u001b[0m\n",
      "\u001b[34m[12/31/2023 06:21:49 INFO 139783795435328] Saved checkpoint to \"/opt/ml/model/image-classification-0003.params\"\u001b[0m\n",
      "\u001b[34m[12/31/2023 06:21:52 INFO 139783795435328] Epoch[3] Batch [20]#011Speed: 183.917 samples/sec#011accuracy=0.697917\u001b[0m\n",
      "\u001b[34m[12/31/2023 06:21:54 INFO 139783795435328] Epoch[3] Train-accuracy=0.728831\u001b[0m\n",
      "\u001b[34m[12/31/2023 06:21:54 INFO 139783795435328] Epoch[3] Time cost=5.179\u001b[0m\n",
      "\u001b[34m[12/31/2023 06:21:55 INFO 139783795435328] Epoch[3] Validation-accuracy=0.803571\u001b[0m\n",
      "\u001b[34m[12/31/2023 06:21:55 INFO 139783795435328] Storing the best model with validation accuracy: 0.803571\u001b[0m\n",
      "\u001b[34m[12/31/2023 06:21:55 INFO 139783795435328] Saved checkpoint to \"/opt/ml/model/image-classification-0004.params\"\u001b[0m\n",
      "\u001b[34m[12/31/2023 06:21:59 INFO 139783795435328] Epoch[4] Batch [20]#011Speed: 183.610 samples/sec#011accuracy=0.757440\u001b[0m\n",
      "\u001b[34m[12/31/2023 06:22:00 INFO 139783795435328] Epoch[4] Train-accuracy=0.752016\u001b[0m\n",
      "\u001b[34m[12/31/2023 06:22:00 INFO 139783795435328] Epoch[4] Time cost=5.188\u001b[0m\n",
      "\u001b[34m[12/31/2023 06:22:01 INFO 139783795435328] Epoch[4] Validation-accuracy=0.786458\u001b[0m\n",
      "\u001b[34m[12/31/2023 06:22:05 INFO 139783795435328] Epoch[5] Batch [20]#011Speed: 181.857 samples/sec#011accuracy=0.776786\u001b[0m\n",
      "\u001b[34m[12/31/2023 06:22:07 INFO 139783795435328] Epoch[5] Train-accuracy=0.759073\u001b[0m\n",
      "\u001b[34m[12/31/2023 06:22:07 INFO 139783795435328] Epoch[5] Time cost=5.212\u001b[0m\n",
      "\u001b[34m[12/31/2023 06:22:07 INFO 139783795435328] Epoch[5] Validation-accuracy=0.567708\u001b[0m\n",
      "\u001b[34m[12/31/2023 06:22:11 INFO 139783795435328] Epoch[6] Batch [20]#011Speed: 185.073 samples/sec#011accuracy=0.799107\u001b[0m\n",
      "\u001b[34m[12/31/2023 06:22:13 INFO 139783795435328] Epoch[6] Train-accuracy=0.776210\u001b[0m\n",
      "\u001b[34m[12/31/2023 06:22:13 INFO 139783795435328] Epoch[6] Time cost=5.166\u001b[0m\n",
      "\u001b[34m[12/31/2023 06:22:13 INFO 139783795435328] Epoch[6] Validation-accuracy=0.651042\u001b[0m\n",
      "\u001b[34m[12/31/2023 06:22:17 INFO 139783795435328] Epoch[7] Batch [20]#011Speed: 185.378 samples/sec#011accuracy=0.784226\u001b[0m\n",
      "\u001b[34m[12/31/2023 06:22:19 INFO 139783795435328] Epoch[7] Train-accuracy=0.785282\u001b[0m\n",
      "\u001b[34m[12/31/2023 06:22:19 INFO 139783795435328] Epoch[7] Time cost=5.152\u001b[0m\n",
      "\u001b[34m[12/31/2023 06:22:19 INFO 139783795435328] Epoch[7] Validation-accuracy=0.736607\u001b[0m\n",
      "\u001b[34m[12/31/2023 06:22:23 INFO 139783795435328] Epoch[8] Batch [20]#011Speed: 182.896 samples/sec#011accuracy=0.808036\u001b[0m\n",
      "\u001b[34m[12/31/2023 06:22:25 INFO 139783795435328] Epoch[8] Train-accuracy=0.801411\u001b[0m\n",
      "\u001b[34m[12/31/2023 06:22:25 INFO 139783795435328] Epoch[8] Time cost=5.210\u001b[0m\n",
      "\u001b[34m[12/31/2023 06:22:26 INFO 139783795435328] Epoch[8] Validation-accuracy=0.822917\u001b[0m\n",
      "\u001b[34m[12/31/2023 06:22:26 INFO 139783795435328] Storing the best model with validation accuracy: 0.822917\u001b[0m\n",
      "\u001b[34m[12/31/2023 06:22:26 INFO 139783795435328] Saved checkpoint to \"/opt/ml/model/image-classification-0009.params\"\u001b[0m\n",
      "\u001b[34m[12/31/2023 06:22:30 INFO 139783795435328] Epoch[9] Batch [20]#011Speed: 185.604 samples/sec#011accuracy=0.806548\u001b[0m\n",
      "\u001b[34m[12/31/2023 06:22:31 INFO 139783795435328] Epoch[9] Train-accuracy=0.808468\u001b[0m\n",
      "\u001b[34m[12/31/2023 06:22:31 INFO 139783795435328] Epoch[9] Time cost=5.153\u001b[0m\n",
      "\u001b[34m[12/31/2023 06:22:32 INFO 139783795435328] Epoch[9] Validation-accuracy=0.786458\u001b[0m\n",
      "\u001b[34m[12/31/2023 06:22:36 INFO 139783795435328] Epoch[10] Batch [20]#011Speed: 185.651 samples/sec#011accuracy=0.799107\u001b[0m\n",
      "\u001b[34m[12/31/2023 06:22:37 INFO 139783795435328] Epoch[10] Train-accuracy=0.807460\u001b[0m\n",
      "\u001b[34m[12/31/2023 06:22:37 INFO 139783795435328] Epoch[10] Time cost=5.136\u001b[0m\n",
      "\u001b[34m[12/31/2023 06:22:38 INFO 139783795435328] Epoch[10] Validation-accuracy=0.864583\u001b[0m\n",
      "\u001b[34m[12/31/2023 06:22:38 INFO 139783795435328] Storing the best model with validation accuracy: 0.864583\u001b[0m\n",
      "\u001b[34m[12/31/2023 06:22:39 INFO 139783795435328] Saved checkpoint to \"/opt/ml/model/image-classification-0011.params\"\u001b[0m\n",
      "\u001b[34m[12/31/2023 06:22:42 INFO 139783795435328] Epoch[11] Batch [20]#011Speed: 184.073 samples/sec#011accuracy=0.813988\u001b[0m\n",
      "\u001b[34m[12/31/2023 06:22:44 INFO 139783795435328] Epoch[11] Train-accuracy=0.818548\u001b[0m\n",
      "\u001b[34m[12/31/2023 06:22:44 INFO 139783795435328] Epoch[11] Time cost=5.187\u001b[0m\n",
      "\u001b[34m[12/31/2023 06:22:44 INFO 139783795435328] Epoch[11] Validation-accuracy=0.830357\u001b[0m\n",
      "\u001b[34m[12/31/2023 06:22:48 INFO 139783795435328] Epoch[12] Batch [20]#011Speed: 183.288 samples/sec#011accuracy=0.839286\u001b[0m\n",
      "\u001b[34m[12/31/2023 06:22:50 INFO 139783795435328] Epoch[12] Train-accuracy=0.836694\u001b[0m\n",
      "\u001b[34m[12/31/2023 06:22:50 INFO 139783795435328] Epoch[12] Time cost=5.193\u001b[0m\n",
      "\u001b[34m[12/31/2023 06:22:50 INFO 139783795435328] Epoch[12] Validation-accuracy=0.833333\u001b[0m\n",
      "\u001b[34m[12/31/2023 06:22:54 INFO 139783795435328] Epoch[13] Batch [20]#011Speed: 184.748 samples/sec#011accuracy=0.839286\u001b[0m\n",
      "\u001b[34m[12/31/2023 06:22:56 INFO 139783795435328] Epoch[13] Train-accuracy=0.843750\u001b[0m\n",
      "\u001b[34m[12/31/2023 06:22:56 INFO 139783795435328] Epoch[13] Time cost=5.164\u001b[0m\n",
      "\u001b[34m[12/31/2023 06:22:56 INFO 139783795435328] Epoch[13] Validation-accuracy=0.812500\u001b[0m\n",
      "\u001b[34m[12/31/2023 06:23:00 INFO 139783795435328] Epoch[14] Batch [20]#011Speed: 182.575 samples/sec#011accuracy=0.833333\u001b[0m\n",
      "\u001b[34m[12/31/2023 06:23:02 INFO 139783795435328] Epoch[14] Train-accuracy=0.837702\u001b[0m\n",
      "\u001b[34m[12/31/2023 06:23:02 INFO 139783795435328] Epoch[14] Time cost=5.250\u001b[0m\n",
      "\u001b[34m[12/31/2023 06:23:03 INFO 139783795435328] Epoch[14] Validation-accuracy=0.838542\u001b[0m\n",
      "\u001b[34m[12/31/2023 06:23:07 INFO 139783795435328] Epoch[15] Batch [20]#011Speed: 183.043 samples/sec#011accuracy=0.842262\u001b[0m\n",
      "\u001b[34m[12/31/2023 06:23:08 INFO 139783795435328] Epoch[15] Train-accuracy=0.839718\u001b[0m\n",
      "\u001b[34m[12/31/2023 06:23:08 INFO 139783795435328] Epoch[15] Time cost=5.194\u001b[0m\n",
      "\u001b[34m[12/31/2023 06:23:09 INFO 139783795435328] Epoch[15] Validation-accuracy=0.816964\u001b[0m\n",
      "\u001b[34m[12/31/2023 06:23:13 INFO 139783795435328] Epoch[16] Batch [20]#011Speed: 183.512 samples/sec#011accuracy=0.855655\u001b[0m\n",
      "\u001b[34m[12/31/2023 06:23:15 INFO 139783795435328] Epoch[16] Train-accuracy=0.849798\u001b[0m\n",
      "\u001b[34m[12/31/2023 06:23:15 INFO 139783795435328] Epoch[16] Time cost=5.182\u001b[0m\n",
      "\u001b[34m[12/31/2023 06:23:15 INFO 139783795435328] Epoch[16] Validation-accuracy=0.843750\u001b[0m\n",
      "\u001b[34m[12/31/2023 06:23:19 INFO 139783795435328] Epoch[17] Batch [20]#011Speed: 184.138 samples/sec#011accuracy=0.885417\u001b[0m\n",
      "\u001b[34m[12/31/2023 06:23:21 INFO 139783795435328] Epoch[17] Train-accuracy=0.887097\u001b[0m\n",
      "\u001b[34m[12/31/2023 06:23:21 INFO 139783795435328] Epoch[17] Time cost=5.190\u001b[0m\n",
      "\u001b[34m[12/31/2023 06:23:21 INFO 139783795435328] Epoch[17] Validation-accuracy=0.776042\u001b[0m\n",
      "\u001b[34m[12/31/2023 06:23:25 INFO 139783795435328] Epoch[18] Batch [20]#011Speed: 183.663 samples/sec#011accuracy=0.827381\u001b[0m\n",
      "\u001b[34m[12/31/2023 06:23:27 INFO 139783795435328] Epoch[18] Train-accuracy=0.834677\u001b[0m\n",
      "\u001b[34m[12/31/2023 06:23:27 INFO 139783795435328] Epoch[18] Time cost=5.196\u001b[0m\n",
      "\u001b[34m[12/31/2023 06:23:27 INFO 139783795435328] Epoch[18] Validation-accuracy=0.843750\u001b[0m\n",
      "\u001b[34m[12/31/2023 06:23:31 INFO 139783795435328] Epoch[19] Batch [20]#011Speed: 183.629 samples/sec#011accuracy=0.877976\u001b[0m\n",
      "\u001b[34m[12/31/2023 06:23:33 INFO 139783795435328] Epoch[19] Train-accuracy=0.873992\u001b[0m\n",
      "\u001b[34m[12/31/2023 06:23:33 INFO 139783795435328] Epoch[19] Time cost=5.189\u001b[0m\n",
      "\u001b[34m[12/31/2023 06:23:33 INFO 139783795435328] Epoch[19] Validation-accuracy=0.825893\u001b[0m\n",
      "\u001b[34m[12/31/2023 06:23:37 INFO 139783795435328] Epoch[20] Batch [20]#011Speed: 182.989 samples/sec#011accuracy=0.891369\u001b[0m\n",
      "\u001b[34m[12/31/2023 06:23:39 INFO 139783795435328] Epoch[20] Train-accuracy=0.885081\u001b[0m\n",
      "\u001b[34m[12/31/2023 06:23:39 INFO 139783795435328] Epoch[20] Time cost=5.216\u001b[0m\n",
      "\u001b[34m[12/31/2023 06:23:40 INFO 139783795435328] Epoch[20] Validation-accuracy=0.817708\u001b[0m\n",
      "\u001b[34m[12/31/2023 06:23:44 INFO 139783795435328] Epoch[21] Batch [20]#011Speed: 184.388 samples/sec#011accuracy=0.907738\u001b[0m\n",
      "\u001b[34m[12/31/2023 06:23:45 INFO 139783795435328] Epoch[21] Train-accuracy=0.903226\u001b[0m\n",
      "\u001b[34m[12/31/2023 06:23:45 INFO 139783795435328] Epoch[21] Time cost=5.174\u001b[0m\n",
      "\u001b[34m[12/31/2023 06:23:46 INFO 139783795435328] Epoch[21] Validation-accuracy=0.833333\u001b[0m\n",
      "\u001b[34m[12/31/2023 06:23:50 INFO 139783795435328] Epoch[22] Batch [20]#011Speed: 183.821 samples/sec#011accuracy=0.937500\u001b[0m\n",
      "\u001b[34m[12/31/2023 06:23:51 INFO 139783795435328] Epoch[22] Train-accuracy=0.931452\u001b[0m\n",
      "\u001b[34m[12/31/2023 06:23:51 INFO 139783795435328] Epoch[22] Time cost=5.182\u001b[0m\n",
      "\u001b[34m[12/31/2023 06:23:52 INFO 139783795435328] Epoch[22] Validation-accuracy=0.843750\u001b[0m\n",
      "\u001b[34m[12/31/2023 06:23:56 INFO 139783795435328] Epoch[23] Batch [20]#011Speed: 184.968 samples/sec#011accuracy=0.907738\u001b[0m\n",
      "\u001b[34m[12/31/2023 06:23:57 INFO 139783795435328] Epoch[23] Train-accuracy=0.896169\u001b[0m\n",
      "\u001b[34m[12/31/2023 06:23:57 INFO 139783795435328] Epoch[23] Time cost=5.153\u001b[0m\n",
      "\u001b[34m[12/31/2023 06:23:58 INFO 139783795435328] Epoch[23] Validation-accuracy=0.816964\u001b[0m\n",
      "\u001b[34m[12/31/2023 06:24:02 INFO 139783795435328] Epoch[24] Batch [20]#011Speed: 179.527 samples/sec#011accuracy=0.931548\u001b[0m\n",
      "\u001b[34m[12/31/2023 06:24:04 INFO 139783795435328] Epoch[24] Train-accuracy=0.936492\u001b[0m\n",
      "\u001b[34m[12/31/2023 06:24:04 INFO 139783795435328] Epoch[24] Time cost=5.316\u001b[0m\n",
      "\u001b[34m[12/31/2023 06:24:04 INFO 139783795435328] Epoch[24] Validation-accuracy=0.828125\u001b[0m\n",
      "\u001b[34m[12/31/2023 06:24:08 INFO 139783795435328] Epoch[25] Batch [20]#011Speed: 184.445 samples/sec#011accuracy=0.930060\u001b[0m\n",
      "\u001b[34m[12/31/2023 06:24:10 INFO 139783795435328] Epoch[25] Train-accuracy=0.923387\u001b[0m\n",
      "\u001b[34m[12/31/2023 06:24:10 INFO 139783795435328] Epoch[25] Time cost=5.164\u001b[0m\n",
      "\u001b[34m[12/31/2023 06:24:10 INFO 139783795435328] Epoch[25] Validation-accuracy=0.859375\u001b[0m\n",
      "\u001b[34m[12/31/2023 06:24:14 INFO 139783795435328] Epoch[26] Batch [20]#011Speed: 186.073 samples/sec#011accuracy=0.895833\u001b[0m\n",
      "\u001b[34m[12/31/2023 06:24:16 INFO 139783795435328] Epoch[26] Train-accuracy=0.911290\u001b[0m\n",
      "\u001b[34m[12/31/2023 06:24:16 INFO 139783795435328] Epoch[26] Time cost=5.139\u001b[0m\n",
      "\u001b[34m[12/31/2023 06:24:16 INFO 139783795435328] Epoch[26] Validation-accuracy=0.817708\u001b[0m\n",
      "\u001b[34m[12/31/2023 06:24:20 INFO 139783795435328] Epoch[27] Batch [20]#011Speed: 184.619 samples/sec#011accuracy=0.938988\u001b[0m\n",
      "\u001b[34m[12/31/2023 06:24:22 INFO 139783795435328] Epoch[27] Train-accuracy=0.936492\u001b[0m\n",
      "\u001b[34m[12/31/2023 06:24:22 INFO 139783795435328] Epoch[27] Time cost=5.160\u001b[0m\n",
      "\u001b[34m[12/31/2023 06:24:23 INFO 139783795435328] Epoch[27] Validation-accuracy=0.767857\u001b[0m\n",
      "\u001b[34m[12/31/2023 06:24:27 INFO 139783795435328] Epoch[28] Batch [20]#011Speed: 183.609 samples/sec#011accuracy=0.937500\u001b[0m\n",
      "\u001b[34m[12/31/2023 06:24:28 INFO 139783795435328] Epoch[28] Train-accuracy=0.938508\u001b[0m\n",
      "\u001b[34m[12/31/2023 06:24:28 INFO 139783795435328] Epoch[28] Time cost=5.210\u001b[0m\n",
      "\u001b[34m[12/31/2023 06:24:29 INFO 139783795435328] Epoch[28] Validation-accuracy=0.833333\u001b[0m\n",
      "\n",
      "2023-12-31 06:24:42 Uploading - Uploading generated training model\u001b[34m[12/31/2023 06:24:33 INFO 139783795435328] Epoch[29] Batch [20]#011Speed: 184.497 samples/sec#011accuracy=0.968750\u001b[0m\n",
      "\u001b[34m[12/31/2023 06:24:34 INFO 139783795435328] Epoch[29] Train-accuracy=0.963710\u001b[0m\n",
      "\u001b[34m[12/31/2023 06:24:34 INFO 139783795435328] Epoch[29] Time cost=5.170\u001b[0m\n",
      "\u001b[34m[12/31/2023 06:24:35 INFO 139783795435328] Epoch[29] Validation-accuracy=0.848958\u001b[0m\n",
      "\n",
      "2023-12-31 06:25:03 Completed - Training job completed\n",
      "Training seconds: 518\n",
      "Billable seconds: 518\n"
     ]
    }
   ],
   "source": [
    "## TODO: train your model\n",
    "img_classifier_model.fit(inputs=model_inputs)"
   ]
  },
  {
   "cell_type": "markdown",
   "metadata": {},
   "source": [
    "If all goes well, you'll end up with a model topping out above `.8` validation accuracy. With only 1000 training samples in the CIFAR dataset, that's pretty good. We could definitely pursue data augmentation & gathering more samples to help us improve further, but for now let's proceed to deploy our model.\n",
    "\n",
    "### Getting ready to deploy\n",
    "\n",
    "To begin with, let's configure Model Monitor to track our deployment. We'll define a `DataCaptureConfig` below:"
   ]
  },
  {
   "cell_type": "code",
   "execution_count": 40,
   "metadata": {},
   "outputs": [],
   "source": [
    "from sagemaker.model_monitor import DataCaptureConfig\n",
    "\n",
    "data_capture_config = DataCaptureConfig(\n",
    "    ## TODO: Set config options\n",
    "    enable_capture=True,  # Set to True to enable data capture\n",
    "    sampling_percentage=100,  # Capture 100% of the data\n",
    "    destination_s3_uri=f\"s3://{bucket}/data_capture\"\n",
    ")"
   ]
  },
  {
   "cell_type": "markdown",
   "metadata": {},
   "source": [
    "Note the `destination_s3_uri` parameter: At the end of the project, we can explore the `data_capture` directory in S3 to find crucial data about the inputs and outputs Model Monitor has observed on our model endpoint over time.\n",
    "\n",
    "With that done, deploy your model on a single `ml.m5.xlarge` instance with the data capture config attached:"
   ]
  },
  {
   "cell_type": "code",
   "execution_count": 41,
   "metadata": {},
   "outputs": [
    {
     "name": "stderr",
     "output_type": "stream",
     "text": [
      "INFO:sagemaker:Creating model with name: image-classification-2023-12-31-06-28-08-457\n",
      "INFO:sagemaker:Creating endpoint-config with name image-classification-2023-12-31-06-28-08-457\n",
      "INFO:sagemaker:Creating endpoint with name image-classification-2023-12-31-06-28-08-457\n"
     ]
    },
    {
     "name": "stdout",
     "output_type": "stream",
     "text": [
      "----------!image-classification-2023-12-31-06-28-08-457\n"
     ]
    }
   ],
   "source": [
    "deployment = img_classifier_model.deploy(\n",
    "    ## TODO: fill in deployment options\n",
    "    initial_instance_count=1, \n",
    "    instance_type='ml.m5.xlarge',\n",
    "    data_capture_config=data_capture_config\n",
    "    )\n",
    "\n",
    "endpoint = deployment.endpoint_name\n",
    "print(endpoint)"
   ]
  },
  {
   "cell_type": "markdown",
   "metadata": {},
   "source": [
    "Note the endpoint name for later as well.\n",
    "\n",
    "Next, instantiate a Predictor:"
   ]
  },
  {
   "cell_type": "code",
   "execution_count": 43,
   "metadata": {},
   "outputs": [],
   "source": [
    "from sagemaker.predictor import Predictor\n",
    "predictor = Predictor(endpoint_name=endpoint, sagemaker_session=session)## TODO: fill in"
   ]
  },
  {
   "cell_type": "markdown",
   "metadata": {},
   "source": [
    "In the code snippet below we are going to prepare one of your saved images for prediction. Use the predictor to process the `payload`."
   ]
  },
  {
   "cell_type": "code",
   "execution_count": 45,
   "metadata": {},
   "outputs": [],
   "source": [
    "from sagemaker.serializers import IdentitySerializer\n",
    "import base64\n",
    "\n",
    "predictor.serializer = IdentitySerializer(\"image/png\")\n",
    "with open(\"./test/bicycle_s_001789.png\", \"rb\") as f:\n",
    "    payload = f.read()\n",
    "\n",
    "    \n",
    "inference = predictor.predict(payload) ## TODO: Process the payload with your predictor"
   ]
  },
  {
   "cell_type": "markdown",
   "metadata": {},
   "source": [
    "Your `inference` object is an array of two values, the predicted probability value for each of your classes (bicycle and motorcycle respectively.) So, for example, a value of `b'[0.91, 0.09]'` indicates the probability of being a bike is 91% and being a motorcycle is 9%."
   ]
  },
  {
   "cell_type": "code",
   "execution_count": 46,
   "metadata": {},
   "outputs": [
    {
     "name": "stdout",
     "output_type": "stream",
     "text": [
      "b'[0.9206414818763733, 0.0793585404753685]'\n"
     ]
    }
   ],
   "source": [
    "print(inference)"
   ]
  },
  {
   "cell_type": "markdown",
   "metadata": {},
   "source": [
    "### Draft Lambdas and Step Function Workflow\n",
    "\n",
    "Your operations team uses Step Functions to orchestrate serverless workflows. One of the nice things about Step Functions is that [workflows can call other workflows](https://docs.aws.amazon.com/step-functions/latest/dg/connect-stepfunctions.html), so the team can easily plug your workflow into the broader production architecture for Scones Unlimited.\n",
    "\n",
    "In this next stage you're going to write and deploy three Lambda functions, and then use the Step Functions visual editor to chain them together! Our functions are going to work with a simple data object:\n",
    "\n",
    "```python\n",
    "{\n",
    "    \"inferences\": [], # Output of predictor.predict\n",
    "    \"s3_key\": \"\", # Source data S3 key\n",
    "    \"s3_bucket\": \"\", # Source data S3 bucket\n",
    "    \"image_data\": \"\"  # base64 encoded string containing the image data\n",
    "}\n",
    "```\n",
    "\n",
    "A good test object that you can use for Lambda tests and Step Function executions, throughout the next section, might look like this:\n",
    "\n",
    "```python\n",
    "{\n",
    "  \"image_data\": \"\",\n",
    "  \"s3_bucket\": MY_BUCKET_NAME, # Fill in with your bucket\n",
    "  \"s3_key\": \"test/bicycle_s_000513.png\"\n",
    "}\n",
    "```\n",
    "\n",
    "Using these fields, your functions can read and write the necessary data to execute your workflow. Let's start with the first function. Your first Lambda function will copy an object from S3, base64 encode it, and then return it to the step function as `image_data` in an event.\n",
    "\n",
    "Go to the Lambda dashboard and create a new Lambda function with a descriptive name like \"serializeImageData\" and select thr 'Python 3.8' runtime. Add the same permissions as the SageMaker role you created earlier. (Reminder: you do this in the Configuration tab under \"Permissions\"). Once you're ready, use the starter code below to craft your Lambda handler:\n",
    "\n",
    "```python\n",
    "import json\n",
    "import boto3\n",
    "import base64\n",
    "\n",
    "s3 = boto3.client('s3')\n",
    "\n",
    "def lambda_handler(event, context):\n",
    "    \"\"\"A function to serialize target data from S3\"\"\"\n",
    "    \n",
    "    # Get the s3 address from the Step Function event input\n",
    "    key = ## TODO: fill in\n",
    "    bucket = ## TODO: fill in\n",
    "    \n",
    "    # Download the data from s3 to /tmp/image.png\n",
    "    ## TODO: fill in\n",
    "    \n",
    "    # We read the data from a file\n",
    "    with open(\"/tmp/image.png\", \"rb\") as f:\n",
    "        image_data = base64.b64encode(f.read())\n",
    "\n",
    "    # Pass the data back to the Step Function\n",
    "    print(\"Event:\", event.keys())\n",
    "    return {\n",
    "        'statusCode': 200,\n",
    "        'body': {\n",
    "            \"image_data\": image_data,\n",
    "            \"s3_bucket\": bucket,\n",
    "            \"s3_key\": key,\n",
    "            \"inferences\": []\n",
    "        }\n",
    "    }\n",
    "```\n",
    "\n",
    "The next function is responsible for the classification part - we're going to take the image output from the previous function, decode it, and then pass inferences back to the the Step Function.\n",
    "\n",
    "Because this Lambda will have runtime dependencies (i.e. the SageMaker SDK) you'll need to package them in your function. *Key reading:* https://docs.aws.amazon.com/lambda/latest/dg/python-package-create.html#python-package-create-with-dependency\n",
    "\n",
    "Create a new Lambda function with the same rights and a descriptive name, then fill in the starter code below for your classifier Lambda.\n",
    "\n",
    "```python\n",
    "import json\n",
    "import sagemaker\n",
    "import base64\n",
    "from sagemaker.serializers import IdentitySerializer\n",
    "\n",
    "# Fill this in with the name of your deployed model\n",
    "ENDPOINT = ## TODO: fill in\n",
    "\n",
    "def lambda_handler(event, context):\n",
    "\n",
    "    # Decode the image data\n",
    "    image = base64.b64decode(## TODO: fill in)\n",
    "\n",
    "    # Instantiate a Predictor\n",
    "    predictor = ## TODO: fill in\n",
    "\n",
    "    # For this model the IdentitySerializer needs to be \"image/png\"\n",
    "    predictor.serializer = IdentitySerializer(\"image/png\")\n",
    "    \n",
    "    # Make a prediction:\n",
    "    inferences = ## TODO: fill in\n",
    "    \n",
    "    # We return the data back to the Step Function    \n",
    "    event[\"inferences\"] = inferences.decode('utf-8')\n",
    "    return {\n",
    "        'statusCode': 200,\n",
    "        'body': json.dumps(event)\n",
    "    }\n",
    "```\n",
    "\n",
    "Finally, we need to filter low-confidence inferences. Define a threshold between 1.00 and 0.000 for your model: what is reasonble for you? If the model predicts at `.70` for it's highest confidence label, do we want to pass that inference along to downstream systems? Make one last Lambda function and tee up the same permissions:\n",
    "\n",
    "```python\n",
    "import json\n",
    "\n",
    "\n",
    "THRESHOLD = .93\n",
    "\n",
    "\n",
    "def lambda_handler(event, context):\n",
    "    \n",
    "    # Grab the inferences from the event\n",
    "    inferences = ## TODO: fill in\n",
    "    \n",
    "    # Check if any values in our inferences are above THRESHOLD\n",
    "    meets_threshold = ## TODO: fill in\n",
    "    \n",
    "    # If our threshold is met, pass our data back out of the\n",
    "    # Step Function, else, end the Step Function with an error\n",
    "    if meets_threshold:\n",
    "        pass\n",
    "    else:\n",
    "        raise(\"THRESHOLD_CONFIDENCE_NOT_MET\")\n",
    "\n",
    "    return {\n",
    "        'statusCode': 200,\n",
    "        'body': json.dumps(event)\n",
    "    }\n",
    "```\n",
    "Once you have tested the lambda functions, save the code for each lambda function in a python script called 'lambda.py'.\n",
    "\n",
    "With your lambdas in place, you can use the Step Functions visual editor to construct a workflow that chains them together. In the Step Functions console you'll have the option to author a Standard step function *Visually*.\n",
    "\n",
    "When the visual editor opens, you'll have many options to add transitions in your workflow. We're going to keep it simple and have just one: to invoke Lambda functions. Add three of them chained together. For each one, you'll be able to select the Lambda functions you just created in the proper order, filter inputs and outputs, and give them descriptive names.\n",
    "\n",
    "Make sure that you:\n",
    "\n",
    "1. Are properly filtering the inputs and outputs of your invokations (e.g. `$.body`)\n",
    "2. Take care to remove the error handling from the last function - it's supposed to \"fail loudly\" for your operations colleagues!\n",
    "\n",
    "Take a screenshot of your working step function in action and export the step function as JSON for your submission package."
   ]
  },
  {
   "cell_type": "markdown",
   "metadata": {},
   "source": [
    "\n",
    "Great! Now you can use the files in `./test` as test files for our workflow. Depending on our threshold, our workflow should reliably pass predictions about images from `./test` on to downstream systems, while erroring out for inferences below our confidence threshold!\n",
    "\n",
    "### Testing and Evaluation\n",
    "\n",
    "Do several step function invokations using data from the `./test` folder. This process should give you confidence that the workflow both *succeeds* AND *fails* as expected. In addition, SageMaker Model Monitor will generate recordings of your data and inferences which we can visualize.\n",
    "\n",
    "Here's a function that can help you generate test inputs for your invokations:"
   ]
  },
  {
   "cell_type": "code",
   "execution_count": 47,
   "metadata": {},
   "outputs": [
    {
     "data": {
      "text/plain": [
       "'{\"image_data\": \"\", \"s3_bucket\": \"sagemaker-us-east-1-367725760029\", \"s3_key\": \"test/closet_s_001373.png\"}'"
      ]
     },
     "execution_count": 47,
     "metadata": {},
     "output_type": "execute_result"
    }
   ],
   "source": [
    "import random\n",
    "import boto3\n",
    "import json\n",
    "\n",
    "\n",
    "def generate_test_case():\n",
    "    # Setup s3 in boto3\n",
    "    s3 = boto3.resource('s3')\n",
    "    \n",
    "    # Randomly pick from sfn or test folders in our bucket\n",
    "    objects = s3.Bucket(bucket).objects.filter(Prefix=\"test/\")\n",
    "    \n",
    "    # Grab any random object key from that folder!\n",
    "    obj = random.choice([x.key for x in objects])\n",
    "    \n",
    "    return json.dumps({\n",
    "        \"image_data\": \"\",\n",
    "        \"s3_bucket\": bucket,\n",
    "        \"s3_key\": obj\n",
    "    })\n",
    "\n",
    "generate_test_case()"
   ]
  },
  {
   "cell_type": "markdown",
   "metadata": {},
   "source": [
    "In the Step Function dashboard for your new function, you can create new executions and copy in the generated test cases. Do several executions so that you can generate data you can evaluate and visualize.\n",
    "\n",
    "Once you've done several executions, let's visualize the record of our inferences. Pull in the JSONLines data from your inferences like so:"
   ]
  },
  {
   "cell_type": "code",
   "execution_count": 49,
   "metadata": {},
   "outputs": [
    {
     "data": {
      "text/plain": [
       "['captured_data/38-20-188-247fbcb3-1a31-40d1-a899-76b855201709.jsonl']"
      ]
     },
     "execution_count": 49,
     "metadata": {},
     "output_type": "execute_result"
    }
   ],
   "source": [
    "from sagemaker.s3 import S3Downloader\n",
    "\n",
    "# In S3 your data will be saved to a datetime-aware path\n",
    "# Find a path related to a datetime you're interested in\n",
    "data_path = 's3://sagemaker-us-east-1-367725760029/data_capture/image-classification-2023-12-31-06-28-08-457/AllTraffic/2023/12/31/06/'\n",
    "S3Downloader.download(data_path, \"captured_data\")\n",
    "\n",
    "# Feel free to repeat this multiple times and pull in more data"
   ]
  },
  {
   "cell_type": "markdown",
   "metadata": {},
   "source": [
    "The data are in JSONLines format, where multiple valid JSON objects are stacked on top of eachother in a single `jsonl` file. We'll import an open-source library, `jsonlines` that was purpose built for parsing this format."
   ]
  },
  {
   "cell_type": "code",
   "execution_count": 50,
   "metadata": {},
   "outputs": [
    {
     "name": "stdout",
     "output_type": "stream",
     "text": [
      "Collecting jsonlines\n",
      "  Downloading jsonlines-4.0.0-py3-none-any.whl.metadata (1.6 kB)\n",
      "Requirement already satisfied: attrs>=19.2.0 in /home/ec2-user/anaconda3/envs/python3/lib/python3.10/site-packages (from jsonlines) (23.1.0)\n",
      "Downloading jsonlines-4.0.0-py3-none-any.whl (8.7 kB)\n",
      "Installing collected packages: jsonlines\n",
      "Successfully installed jsonlines-4.0.0\n"
     ]
    }
   ],
   "source": [
    "!pip install jsonlines\n",
    "import jsonlines"
   ]
  },
  {
   "cell_type": "markdown",
   "metadata": {},
   "source": [
    "Now we can extract the data from each of the source files:"
   ]
  },
  {
   "cell_type": "code",
   "execution_count": 51,
   "metadata": {},
   "outputs": [],
   "source": [
    "import os\n",
    "\n",
    "# List the file names we downloaded\n",
    "file_handles = os.listdir(\"./captured_data\")\n",
    "\n",
    "# Dump all the data into an array\n",
    "json_data = []\n",
    "for jsonl in file_handles:\n",
    "    with jsonlines.open(f\"./captured_data/{jsonl}\") as f:\n",
    "        json_data.append(f.read())"
   ]
  },
  {
   "cell_type": "markdown",
   "metadata": {},
   "source": [
    "The data should now be a list of dictionaries, with significant nesting. We'll give you an example of some code that grabs data out of the objects and visualizes it:"
   ]
  },
  {
   "cell_type": "code",
   "execution_count": 52,
   "metadata": {},
   "outputs": [
    {
     "data": {
      "text/plain": [
       "([0.9149691462516785, 0.08503083139657974], '2023-12-30T06:07:05Z')"
      ]
     },
     "execution_count": 52,
     "metadata": {},
     "output_type": "execute_result"
    }
   ],
   "source": [
    "# Define how we'll get our data\n",
    "def simple_getter(obj):\n",
    "    inferences = obj[\"captureData\"][\"endpointOutput\"][\"data\"]\n",
    "    timestamp = obj[\"eventMetadata\"][\"inferenceTime\"]\n",
    "    return json.loads(inferences), timestamp\n",
    "\n",
    "simple_getter(json_data[0])"
   ]
  },
  {
   "cell_type": "markdown",
   "metadata": {},
   "source": [
    "Finally, here's an example of a visualization you can build with this data. In this last part, you will take some time and build your own - the captured data has the input images, the resulting inferences, and the timestamps."
   ]
  },
  {
   "cell_type": "code",
   "execution_count": 53,
   "metadata": {},
   "outputs": [
    {
     "name": "stderr",
     "output_type": "stream",
     "text": [
      "INFO:matplotlib.category:Using categorical units to plot a list of strings that are all parsable as floats or dates. If these strings should be plotted as numbers, cast to the appropriate data type before plotting.\n",
      "INFO:matplotlib.category:Using categorical units to plot a list of strings that are all parsable as floats or dates. If these strings should be plotted as numbers, cast to the appropriate data type before plotting.\n"
     ]
    },
    {
     "data": {
      "image/png": "[encoded data removed]",
      "text/plain": [
       "<Figure size 1000x600 with 1 Axes>"
      ]
     },
     "metadata": {},
     "output_type": "display_data"
    }
   ],
   "source": [
    "import matplotlib.pyplot as plt\n",
    "import json\n",
    "\n",
    "# Define how we'll get our data\n",
    "def simple_getter(obj):\n",
    "    inferences = obj[\"captureData\"][\"endpointOutput\"][\"data\"]\n",
    "    timestamp = obj[\"eventMetadata\"][\"inferenceTime\"]\n",
    "    return json.loads(inferences), timestamp\n",
    "\n",
    "# Populate the data for the x and y axis\n",
    "x = []\n",
    "y = []\n",
    "for obj in json_data:\n",
    "    inference, timestamp = simple_getter(obj)\n",
    "    \n",
    "    # Take the maximum confidence score for simplicity\n",
    "    max_confidence = max(inference)\n",
    "    \n",
    "    y.append(max_confidence)\n",
    "    x.append(timestamp)\n",
    "\n",
    "# Plot the data with color-coded points based on confidence level\n",
    "plt.figure(figsize=(10, 6))\n",
    "plt.scatter(x, y, c=['r' if k < 0.94 else 'b' for k in y], label='Inference Confidence')\n",
    "\n",
    "# Draw a horizontal line at the confidence threshold for production use\n",
    "plt.axhline(y=0.94, color='g', linestyle='--', label='Confidence Threshold')\n",
    "\n",
    "# Set the y-axis limit to provide context\n",
    "plt.ylim(bottom=0.88)\n",
    "\n",
    "# Add labels and title\n",
    "plt.xlabel(\"Inference Timestamp\")\n",
    "plt.ylabel(\"Confidence Level\")\n",
    "plt.title(\"Recent Inferences and Confidence Threshold\")\n",
    "plt.legend()\n",
    "\n",
    "# Give it a visually appealing style\n",
    "plt.style.use(\"ggplot\")\n",
    "plt.gcf().autofmt_xdate()\n",
    "\n",
    "# Show the plot\n",
    "plt.show()\n"
   ]
  },
  {
   "cell_type": "markdown",
   "metadata": {},
   "source": [
    "### Todo: build your own visualization\n"
   ]
  },
  {
   "cell_type": "markdown",
   "metadata": {},
   "source": [
    "### Congratulations!\n",
    "\n",
    "You've reached the end of the project. In this project you created an event-drivent ML workflow that can be incorporated into the Scones Unlimited production architecture. You used the SageMaker Estimator API to deploy your SageMaker Model and Endpoint, and you used AWS Lambda and Step Functions to orchestrate your ML workflow. Using SageMaker Model Monitor, you instrumented and observed your Endpoint, and at the end of the project you built a visualization to help stakeholders understand the performance of the Endpoint over time. If you're up for it, you can even go further with these stretch goals:\n",
    "\n",
    "* Extend your workflow to incorporate more classes: the CIFAR dataset includes other vehicles that Scones Unlimited can identify with this model.\n",
    "* Modify your event driven workflow: can you rewrite your Lambda functions so that the workflow can process multiple image inputs in parallel? Can the Step Function \"fan out\" to accomodate this new workflow?\n",
    "* Consider the test data generator we provided for you. Can we use it to create a \"dummy data\" generator, to simulate a continuous stream of input data? Or a big paralell load of data?\n",
    "* What if we want to get notified every time our step function errors out? Can we use the Step Functions visual editor in conjunction with a service like SNS to accomplish this? Try it out!\n",
    "\n",
    "\n"
   ]
  }
 ],
 "metadata": {
  "instance_type": "ml.t3.medium",
  "kernelspec": {
   "display_name": "conda_python3",
   "language": "python",
   "name": "conda_python3"
  },
  "language_info": {
   "codemirror_mode": {
    "name": "ipython",
    "version": 3
   },
   "file_extension": ".py",
   "mimetype": "text/x-python",
   "name": "python",
   "nbconvert_exporter": "python",
   "pygments_lexer": "ipython3",
   "version": "3.10.13"
  }
 },
 "nbformat": 4,
 "nbformat_minor": 4
}
